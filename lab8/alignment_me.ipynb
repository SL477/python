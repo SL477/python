{
 "cells": [
  {
   "attachments": {},
   "cell_type": "markdown",
   "metadata": {},
   "source": [
    "# Lab 8"
   ]
  },
  {
   "cell_type": "code",
   "execution_count": 11,
   "metadata": {},
   "outputs": [],
   "source": [
    "# imports\n",
    "from CompareWithReference import compareWithReference\n",
    "from AccessEntityLabels import loadOntology\n",
    "from rdflib import Graph\n",
    "from owlready2 import *"
   ]
  },
  {
   "cell_type": "code",
   "execution_count": 2,
   "metadata": {},
   "outputs": [
    {
     "name": "stdout",
     "output_type": "stream",
     "text": [
      "Comparing 'anatomy-example-system.ttl' with 'anatomy-reference.ttl\n",
      "\tPrecision: 0.8537434706906558\n",
      "\tRecall: 0.9703166226912929\n",
      "\tF-Score: 0.9083050324174129\n"
     ]
    }
   ],
   "source": [
    "compareWithReference(\"anatomy-reference.ttl\", \"anatomy-example-system.ttl\")"
   ]
  },
  {
   "attachments": {},
   "cell_type": "markdown",
   "metadata": {},
   "source": [
    "## Task 2.1"
   ]
  },
  {
   "cell_type": "code",
   "execution_count": 26,
   "metadata": {},
   "outputs": [
    {
     "name": "stdout",
     "output_type": "stream",
     "text": [
      "http://cmt#Person owl:equivalentClass http://confOf#Trip .\n",
      "http://cmt#Conference owl:equivalentClass http://confOf#Trip .\n",
      "http://cmt#Paper owl:equivalentClass http://confOf#Trip .\n",
      "http://cmt#Author owl:equivalentClass http://confOf#Trip .\n",
      "http://cmt#Administrator owl:equivalentClass http://confOf#Trip .\n"
     ]
    }
   ],
   "source": [
    "def findEquivalences(graph1file: str, graph2file: str):\n",
    "    \"\"\"Load two ontologies and find equivalent entries\"\"\"\n",
    "    graph1 = get_ontology(graph1file).load()\n",
    "\n",
    "    graph2 = get_ontology(graph2file).load()\n",
    "\n",
    "    graph2classes = [c.name for c in graph2.classes()]\n",
    "\n",
    "    for cls in graph1.classes():\n",
    "        if cls.name in graph2classes:\n",
    "            for cls2 in graph2.classes():\n",
    "                print(cls.iri, 'owl:equivalentClass', cls2.iri, '.')\n",
    "                break\n",
    "        \n",
    "findEquivalences(\"cmt.owl\", \"confOf.owl\")"
   ]
  },
  {
   "attachments": {},
   "cell_type": "markdown",
   "metadata": {},
   "source": [
    "## Task 2.2\n",
    "cmt.owl -> ekaw.owl"
   ]
  },
  {
   "cell_type": "code",
   "execution_count": 27,
   "metadata": {},
   "outputs": [
    {
     "name": "stdout",
     "output_type": "stream",
     "text": [
      "http://cmt#Person owl:equivalentClass http://ekaw#Event .\n",
      "http://cmt#Document owl:equivalentClass http://ekaw#Event .\n",
      "http://cmt#Conference owl:equivalentClass http://ekaw#Event .\n",
      "http://cmt#Review owl:equivalentClass http://ekaw#Event .\n",
      "http://cmt#Paper owl:equivalentClass http://ekaw#Event .\n"
     ]
    }
   ],
   "source": [
    "findEquivalences(\"cmt.owl\", \"ekaw.owl\")"
   ]
  },
  {
   "attachments": {},
   "cell_type": "markdown",
   "metadata": {},
   "source": [
    "confOf.owl -> ekaw.owl"
   ]
  },
  {
   "cell_type": "code",
   "execution_count": 28,
   "metadata": {},
   "outputs": [
    {
     "name": "stdout",
     "output_type": "stream",
     "text": [
      "http://confOf#Event owl:equivalentClass http://ekaw#Event .\n",
      "http://confOf#Person owl:equivalentClass http://ekaw#Event .\n",
      "http://confOf#University owl:equivalentClass http://ekaw#Event .\n",
      "http://confOf#Paper owl:equivalentClass http://ekaw#Event .\n",
      "http://confOf#Workshop owl:equivalentClass http://ekaw#Event .\n",
      "http://confOf#Conference owl:equivalentClass http://ekaw#Event .\n",
      "http://confOf#Tutorial owl:equivalentClass http://ekaw#Event .\n",
      "http://confOf#Student owl:equivalentClass http://ekaw#Event .\n"
     ]
    }
   ],
   "source": [
    "findEquivalences(\"confOf.owl\", \"ekaw.owl\")"
   ]
  },
  {
   "attachments": {},
   "cell_type": "markdown",
   "metadata": {},
   "source": [
    "## Task 2.3"
   ]
  },
  {
   "cell_type": "code",
   "execution_count": 29,
   "metadata": {},
   "outputs": [
    {
     "name": "stdout",
     "output_type": "stream",
     "text": [
      "http://www.geneontology.org/formats/oboInOwl#DbXref owl:equivalentClass http://www.geneontology.org/formats/oboInOwl#DbXref .\n",
      "http://www.geneontology.org/formats/oboInOwl#Definition owl:equivalentClass http://www.geneontology.org/formats/oboInOwl#DbXref .\n",
      "http://www.geneontology.org/formats/oboInOwl#ObsoleteClass owl:equivalentClass http://www.geneontology.org/formats/oboInOwl#DbXref .\n",
      "http://www.geneontology.org/formats/oboInOwl#Subset owl:equivalentClass http://www.geneontology.org/formats/oboInOwl#DbXref .\n",
      "http://www.geneontology.org/formats/oboInOwl#Synonym owl:equivalentClass http://www.geneontology.org/formats/oboInOwl#DbXref .\n",
      "http://www.geneontology.org/formats/oboInOwl#SynonymType owl:equivalentClass http://www.geneontology.org/formats/oboInOwl#DbXref .\n"
     ]
    }
   ],
   "source": [
    "findEquivalences(\"mouse.owl\", \"human.owl\")"
   ]
  }
 ],
 "metadata": {
  "kernelspec": {
   "display_name": "Python 3",
   "language": "python",
   "name": "python3"
  },
  "language_info": {
   "codemirror_mode": {
    "name": "ipython",
    "version": 3
   },
   "file_extension": ".py",
   "mimetype": "text/x-python",
   "name": "python",
   "nbconvert_exporter": "python",
   "pygments_lexer": "ipython3",
   "version": "3.8.10"
  },
  "orig_nbformat": 4,
  "vscode": {
   "interpreter": {
    "hash": "08627c6e3106209010b3815f1bdfc6f9c282d837d08ff8013c70ffc0ed8e6712"
   }
  }
 },
 "nbformat": 4,
 "nbformat_minor": 2
}
